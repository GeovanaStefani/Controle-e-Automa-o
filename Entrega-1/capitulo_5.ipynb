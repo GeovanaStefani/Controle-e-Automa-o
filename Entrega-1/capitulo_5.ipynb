{
 "cells": [
  {
   "cell_type": "markdown",
   "id": "d478aa8b",
   "metadata": {},
   "source": [
    "# Capítulo 5 — O Desempenho de Sistemas de Controle com Realimentação\n",
    "\n",
    "**Aluno(a):** Geovana Stefani Lopes Bezerra  \n",
    "**Disciplina:** Controle e Automação  \n",
    "**Professor:** Moacy Pereira da Silva  \n",
    "**Semestre:** 2025.2  \n",
    "\n",
    "Este notebook faz parte do estudo dirigido da disciplina de Controle e Automação com foco em aplicações de Indústria 4.0.  \n",
    "O capítulo 5 do livro *Sistemas de Controle Moderno* (Dorf & Bishop) apresenta os critérios e métricas utilizadas para avaliar o desempenho de sistemas de controle em laço fechado."
   ]
  },
  {
   "cell_type": "markdown",
   "id": "ffbcf616",
   "metadata": {},
   "source": [
    "\n",
    "## 1. Introdução\n",
    "\n",
    "O desempenho de um sistema de controle em malha fechada é avaliado por como o sistema responde a entradas de referência e a perturbações. O Capítulo 5 de Dorf & Bishop organiza essa avaliação em torno de métricas quantitativas (tempo de subida, sobressinal, tempo de acomodação, erro em regime permanente, etc.) e procedimentos analíticos que relacionam essas métricas com as características do sistema em malha aberta (polos, zeros, ganho estático e margens de estabilidade). Neste notebook adotamos a mesma organização: primeiro apresentamos os conceitos, depois as fórmulas úteis e, por fim, exemplificamos com simulações que ilustram os trade-offs clássicos entre desempenho e robustez."
   ]
  },
  {
   "cell_type": "markdown",
   "id": "6f92e8d1",
   "metadata": {},
   "source": [
    "## 2. Fundamentos teóricos \n",
    "\n",
    "### 2.1 Resposta transitória e resposta em regime permanente\n",
    "Dorf & Bishop distinguem claramente a resposta transitória (comportamento logo após uma mudança de referência ou perturbação) da resposta em regime permanente (comportamento quando o efeito transiente já decaiu). A resposta transitória é caracterizada por parâmetros como tempo de subida (Tr), tempo até o pico (Tp), sobressinal (Mp) e tempo de acomodação (Ts). A resposta em regime permanente é medida pelo erro em regime (ess) em relação à referência desejada. Esta distinção orienta o projeto de controladores porque medidas que melhoram a resposta transitória (por exemplo, aumentar ganho) podem degradar o comportamento em regime ou reduzir a robustez.\n",
    "\n",
    "### 2.2 Modelos e modos dominantes\n",
    "Para sistemas lineares de ordem superior, a noção de modos dominantes é utilizada para reduzir a análise transitória a uma forma similar à de um sistema de segunda ordem. Polos complexos conjugados próximos do eixo imaginário dominam a resposta transitória oscilatória; polos reais lentos dominam a resposta lenta de primeira ordem. Dorf & Bishop mostram como, em muitos projetos, é aceitável aproximar a dinâmica pelos modos dominantes para estimar Tr, Mp e Ts.\n",
    "\n",
    "### 2.3 Erro estacionário, tipo do sistema e constantes de erro\n",
    "Defina a função de malha aberta L(s)=C(s)G(s). O tipo do sistema é o número de polos em s=0 na função L(s). A capacidade do sistema em seguir referências polinomiais depende do tipo: tipo 0 (erro finito para degrau), tipo 1 (erro zero para degrau, erro finito para rampa), tipo 2 (erro zero para rampa), e assim por diante. Dorf & Bishop tratam as constantes de erro (Kp, Kv, Ka) e relacionam-nas com ess para referências específicas.\n",
    "\n",
    "### 2.4 Compensadores e efeitos no desempenho\n",
    "Os efeitos dos compensadores clássicos (P, PI, PD, PID, lead/lag) são discutidos em termos de suas ações sobre polos, zeros e ganho: PI reduz ess para degrau adicionando um polo em zero (integração); PD adiciona fase (melhora Tr/Mp); lead/lag são usados para moldar margem de fase e ganho, buscando compromisso entre desempenho e robustez. O capítulo enfatiza a necessidade de avaliar margens (ganho/fase) para garantir robustez contra incertezas de modelo."
   ]
  },
  {
   "cell_type": "markdown",
   "id": "34f7f06c",
   "metadata": {},
   "source": [
    "## 3. Métricas de desempenho — definições e relações matemáticas\n",
    "\n",
    "### 3.1 Definições formais\n",
    "- **Sobressinal (Mp)**: porcentagem que a resposta ultrapassa o valor final, Mp = (y_max - y_final)/y_final × 100%.  \n",
    "- **Tempo de subida (Tr)**: tempo para a resposta ir de 10% a 90% do valor final (convenção comum).  \n",
    "- **Tempo até o pico (Tp)**: tempo onde ocorre o máximo (y_max).  \n",
    "- **Tempo de acomodação (Ts)**: tempo após o qual a resposta permanece dentro de uma banda ±δ (tipicamente δ=2% ou 5%) do valor final.  \n",
    "- **Erro em regime permanente (ess)**: lim_{t→∞} (r(t) − y(t)).  \n",
    "\n",
    "### 3.2 Fórmulas para o segundo-ordem padrão\n",
    "Para um sistema de segunda ordem padrão G(s)=ω_n^2/(s^2 + 2ζω_n s + ω_n^2):  \n",
    "- Mp = exp(−ζπ/√(1−ζ^2))  (fração).  \n",
    "- Tp = π/(ω_n √(1−ζ^2)).  \n",
    "- Tr ≈ 1.8/ω_n (apróx., para ζ ≈ 0.2−0.8).  \n",
    "- Ts (±2%) ≈ 4/(ζ ω_n).  \n",
    "\n",
    "Essas relações são úteis porque permitem projetar especificações de desempenho em termos de ζ e ω_n, que por sua vez orientam o posicionamento de polos desejados em projeto por lugar das raízes ou sendo alvo em técnicas de alocação de polos.\n",
    "\n",
    "### 3.3 Relação com margens de estabilidade\n",
    "Dorf & Bishop destacam que desempenho e robustez competem: aumentar ganho pode reduzir ess e acelerar resposta, mas diminui margem de fase e ganho, aproximando o sistema da instabilidade. Portanto, o projeto frequentemente envolve concessões e verificação por margens e diagramas de Bode."
   ]
  },
  {
   "cell_type": "code",
   "execution_count": null,
   "id": "205545cc-e6d1-4f97-afda-cc342c9140fe",
   "metadata": {},
   "outputs": [],
   "source": [
    "# !pip install control --quiet"
   ]
  },
  {
   "cell_type": "code",
   "execution_count": null,
   "id": "0afd159e",
   "metadata": {},
   "outputs": [],
   "source": [
    "\n",
    "import numpy as np\n",
    "import matplotlib.pyplot as plt\n",
    "from control import tf, feedback, step_response, bode, margin\n",
    "plt.rcParams['figure.figsize'] = (10,4)\n",
    "\n",
    "def performance_metrics(t, y, reference=1.0, settling_band=0.02):\n",
    "    \"\"\"Calcula Mp, Tr (10-90%), Tp, Ts (banda), ess a partir de amostras t,y.\"\"\"\n",
    "    t = np.asarray(t)\n",
    "    y = np.asarray(y)\n",
    "    final = y[-1]\n",
    "    y_max = np.max(y)\n",
    "    Mp = 0.0\n",
    "    if final != 0:\n",
    "        Mp = (y_max - final) / abs(final) * 100.0\n",
    "    # Tp\n",
    "    Tp = t[np.argmax(y)]\n",
    "    # Rise time 10-90%\n",
    "    try:\n",
    "        t10 = t[np.where(y >= 0.1*final)[0][0]]\n",
    "        t90 = t[np.where(y >= 0.9*final)[0][0]]\n",
    "        Tr = t90 - t10\n",
    "    except Exception:\n",
    "        Tr = float('nan')\n",
    "    # Settling time (first time it enters and stays within band)\n",
    "    band = settling_band * abs(final)\n",
    "    Ts = float('nan')\n",
    "    idxs = np.where(np.abs(y - final) <= band)[0]\n",
    "    if idxs.size > 0:\n",
    "        for i in idxs:\n",
    "            if np.all(np.abs(y[i:] - final) <= band):\n",
    "                Ts = t[i]\n",
    "                break\n",
    "    ess = reference - final\n",
    "    return {'Mp_percent': Mp, 'Tr_s': Tr, 'Tp_s': Tp, 'Ts_s': Ts, 'ess': ess}\n"
   ]
  },
  {
   "cell_type": "markdown",
   "id": "be9fd177",
   "metadata": {},
   "source": [
    "## 4. Plantas de exemplo (definição física e modelagem)\n",
    "\n",
    "Serão utilizadas três plantas clássicas para ilustrar conceitos do capítulo:\n",
    "- **Planta A (processo com integrador e modos lentos):** G_A(s) = 1 / (s (s+1) (s+2)). Representa um processo com integrador — útil para discutir erro estacionário e necessidade de ação integral.  \n",
    "- **Planta B (tanque, 1ª ordem lenta):** G_B(s) = K/(τ s + 1), com K=1, τ=5 s. Modelo típico de nível de tanque.  \n",
    "- **Planta C (motor DC simplificado, 1ª ordem rápida):** G_C(s) = K/(τ s + 1), com K=0.5, τ=0.5 s. Modelo típico de atuador rápido.\n",
    "\n",
    "Cada planta será testada com três controladores: P, PI e PID (formas clássicas), usando parâmetros iniciais que evidenciem os trade-offs. Em seguida calcularemos métricas e discutiremos."
   ]
  },
  {
   "cell_type": "code",
   "execution_count": null,
   "id": "28029010",
   "metadata": {},
   "outputs": [],
   "source": [
    "# Definição das plantas\n",
    "s = tf([1,0],[1])\n",
    "G_A = 1/(s*(s+1)*(s+2))\n",
    "K_B = 1.0; tau_B = 5.0\n",
    "G_B = tf([K_B],[tau_B, 1])\n",
    "K_C = 0.5; tau_C = 0.5\n",
    "G_C = tf([K_C],[tau_C, 1])\n",
    "G_A, G_B, G_C\n"
   ]
  },
  {
   "cell_type": "markdown",
   "id": "dde8e03e",
   "metadata": {},
   "source": [
    "## 5. Simulações: controladores, parâmetros e execução\n",
    "\n",
    "Parâmetros iniciais escolhidos para demonstração (pode-se ajustar em varredura):\n",
    "- Kp = 5.0, Ki = 1.0, Kd = 0.1  \n",
    "- Controladores implementados na forma de funções de transferência:  \n",
    "  - P(s) = Kp  \n",
    "  - PI(s) = Kp + Ki/s  (implementado como (Kp*s + Ki)/s)  \n",
    "  - PID(s) = Kp + Ki/s + Kd*s  (implementado em forma canônica)\n",
    "\n",
    "A seguir realizamos as simulações (resposta ao degrau unitário na malha fechada) e extraímos métricas."
   ]
  },
  {
   "cell_type": "code",
   "execution_count": null,
   "id": "5086f22e",
   "metadata": {},
   "outputs": [],
   "source": [
    "# Controladores\n",
    "Kp = 5.0; Ki = 1.0; Kd = 0.1\n",
    "C_P = tf([Kp],[1])\n",
    "C_PI = tf([Kp, Ki],[1, 0])   # (Kp*s + Ki)/s\n",
    "C_PID = tf([Kd, Kp, Ki],[1, 0])\n",
    "\n",
    "def simulate_and_report(G, C, name, t_final=60, ref=1.0):\n",
    "    L = C*G\n",
    "    T = feedback(L, 1)\n",
    "    t = np.linspace(0, t_final, 2001)\n",
    "    t_sim, y = step_response(T, T=t)\n",
    "    metrics = performance_metrics(t_sim, y, reference=ref)\n",
    "    return {'t': t_sim, 'y': y, 'metrics': metrics, 'T': T}\n",
    "\n",
    "# Simulações para cada planta e controlador\n",
    "results = {}\n",
    "for name, G_var, tfinal in [('Planta A', G_A, 60), ('Planta B', G_B, 100), ('Planta C', G_C, 10)]:\n",
    "    results[name] = {}\n",
    "    for C, cname in [(C_P, 'P'), (C_PI, 'PI'), (C_PID, 'PID')]:\n",
    "        r = simulate_and_report(G_var, C, cname, t_final=tfinal)\n",
    "        results[name][cname] = r\n",
    "\n",
    "# Plot comparativo para cada planta\n",
    "for name in results:\n",
    "    plt.figure()\n",
    "    for cname in results[name]:\n",
    "        d = results[name][cname]\n",
    "        plt.plot(d['t'], d['y'], label=f\"{cname} (Mp={d['metrics']['Mp_percent']:.1f}%, Ts={d['metrics']['Ts_s']})\")\n",
    "    plt.title(f'Resposta ao degrau - {name}')\n",
    "    plt.xlabel('Tempo (s)')\n",
    "    plt.ylabel('Saída')\n",
    "    plt.grid(True)\n",
    "    plt.legend()\n",
    "    plt.show()\n"
   ]
  },
  {
   "cell_type": "markdown",
   "id": "5df9d149",
   "metadata": {},
   "source": [
    "## 6. Discussão detalhada das simulações (interpretação e ligação com teoria)\n",
    "\n",
    "Nesta seção interpretamos, de forma aprofundada, os resultados obtidos nas simulações à luz dos conceitos apresentados no Capítulo 5 de Dorf & Bishop.\n",
    "\n",
    "- **Planta A (G_A = 1/[s(s+1)(s+2)])**: por conter um integrador em malha aberta, o sistema tende a possuir comportamento de tipo 1 quando controller não remove integrador. A ação P aumenta ganho e pode acelerar resposta, mas não elimina o erro em regime para tipos inferiores — contudo, neste caso o integrador presente faz com que o erro para degrau possa ser reduzido naturalmente. O controlador PI elimina o erro em regime (para degrau) por integrar o erro, mas acrescenta dinâmica que pode reduzir a margem de fase e aumentar o sobressinal. O PID, se bem ajustado, tenta combinar redução de erro com amortecimento do transiente (via termo D). Assim, espera-se observar nas curvas: PI com menor ess, PID com menor Mp comparado a PI mal sintonizado.\n",
    "\n",
    "- **Planta B (tanque, G_B)**: sendo uma planta lenta (τ=5s), observa-se que ganhos elevados geram respostas mais rápidas porém podem provocar sobressinal se houver falta de fase suficiente. Em aplicações de nível, costuma-se preferir PI com ajuste conservador para eliminar erro sem induzir oscilações perigosas.\n",
    "\n",
    "- **Planta C (motor, G_C)**: planta rápida, portanto P com ganho moderado pode ser suficiente; o termo D tende a melhorar amortecimento sem aumentar o estado estacionário. Espera-se Tr pequeno e Ts também pequeno; overshoot depende do ajuste de Kp/Kd.\n",
    "\n",
    "Além dessas observações específicas, ressalta-se os seguintes pontos gerais:\n",
    "1. **Trade-off desempenho × robustez**: conforme indicado no capítulo, melhorias de desempenho (reduzir Ts, Tr) costumam reduzir margens de estabilidade. É necessário confirmar margens via análise de Bode/margin.\n",
    "2. **Importância da modelagem**: variâncias de τ, ganhos ou atrasos não modelados podem tornar um controlador projetado por ajuste manual instável em campo. Dorf & Bishop enfatizam validação experimental e análise de sensibilidade.\n",
    "3. **Anti-windup e saturação**: em plantas com atuadores saturáveis, o termo integrativo requer mecanismos anti-windup para evitar comportamento indevido — detalhe prático tratado no capítulo e que deve ser considerado em implementações reais.\n"
   ]
  },
  {
   "cell_type": "code",
   "execution_count": null,
   "id": "b8a11883",
   "metadata": {},
   "outputs": [],
   "source": [
    "# Cálculo de margens (exemplo na Planta A com PID)\n",
    "L = C_PID * G_A\n",
    "gm, pm, sm, wg, wp, ws = margin(L)\n",
    "print('Gain margin (factor):', gm)\n",
    "print('Phase margin (deg):', pm)\n",
    "print('Gain crossover freq (rad/s):', wg)\n",
    "print('Phase crossover freq (rad/s):', wp)\n"
   ]
  },
  {
   "cell_type": "markdown",
   "id": "8c15e585",
   "metadata": {},
   "source": [
    "## 7. Relação com Indústria 4.0 (APC, IIoT, PIMS, Digital Twin)\n",
    "\n",
    "Este capítulo do livro fornece a base para avaliar desempenho no nível de controlador, nos ambientes de Indústria 4.0 essa avaliação é integrada a camadas superiores: monitoramento, otimização e gêmeos digitais.\n",
    "\n",
    "- **APC (Advanced Process Control)**: métricas de desempenho (ess, Ts, Mp) são usadas como critérios para decidir quando migrar de controladores PID para estratégias baseadas em modelo (MPC). Em malhas com muitas interações ou restrições de processo, o MPC pode alcançar desempenho superior respeitando limites operacionais.\n",
    "\n",
    "- **IIoT / PIMS (PI System, Historian)**: a telemetria de processo pode armazenar métricas de desempenho continuamente (por exemplo, calcular Ts e Mp em janelas deslizantes) para detectar degradação de performance, disparar retuning automático ou alertas de manutenção.\n",
    "\n",
    "- **Digital Twin**: ao integrar os modelos das plantas e do controlador em um gêmeo digital, é possível simular cenários (mudança de processo, falhas, variação de parâmetros) e avaliar o impacto sobre as métricas de desempenho antes de aplicar no campo.\n"
   ]
  },
  {
   "cell_type": "code",
   "execution_count": null,
   "id": "480d8f7c-d8d1-4fc4-8575-ccf85a00249a",
   "metadata": {},
   "outputs": [],
   "source": []
  }
 ],
 "metadata": {
  "kernelspec": {
   "display_name": "Python 3 (ipykernel)",
   "language": "python",
   "name": "python3"
  },
  "language_info": {
   "codemirror_mode": {
    "name": "ipython",
    "version": 3
   },
   "file_extension": ".py",
   "mimetype": "text/x-python",
   "name": "python",
   "nbconvert_exporter": "python",
   "pygments_lexer": "ipython3",
   "version": "3.10.12"
  }
 },
 "nbformat": 4,
 "nbformat_minor": 5
}
