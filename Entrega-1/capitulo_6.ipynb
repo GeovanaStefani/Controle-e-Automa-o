{
 "cells": [
  {
   "cell_type": "markdown",
   "id": "b86d13df",
   "metadata": {},
   "source": [
    "# Capítulo 6 — A Estabilidade de Sistemas Lineares com Realimentação\n",
    "\n",
    "**Aluno(a):** Geovana Stefani Lopes Bezerra  \n",
    "**Disciplina:** Controle e Automação  \n",
    "**Professor:** Moacy Pereira da Silva  \n",
    "**Semestre:** 2025.2  \n",
    "\n",
    "Este notebook faz parte do estudo dirigido da disciplina de Controle e Automação com foco em aplicações de Indústria 4.0.  \n",
    "O Capítulo 6 de *Sistemas de Controle Moderno* (Dorf & Bishop) trata da estabilidade de sistemas lineares em malha aberta e fechada, apresentando critérios clássicos (Routh–Hurwitz, local de raízes, Nyquist) e discutindo relações entre polos, margens de estabilidade e projeto de compensadores."
   ]
  },
  {
   "cell_type": "markdown",
   "id": "3237c2b6",
   "metadata": {},
   "source": [
    "\n",
    "## 1. Introdução\n",
    "\n",
    "A estabilidade é um conceito central em teoria de controle: diz respeito ao comportamento assintótico das soluções do sistema quando perturbado ou quando submetido a entradas. Dorf & Bishop no Capítulo 6 enfatizam a distinção entre estabilidade interna (dos polos) e estabilidade em malha fechada, além de apresentar métodos práticos para avaliar estabilidade sem necessariamente calcular todos os polos explicitamente. Este notebook segue a organização do capítulo: primeiro os conceitos, depois critérios clássicos (Routh, Nyquist, Lugar das Raízes), em seguida demonstrações computacionais e exemplos comentados."
   ]
  },
  {
   "cell_type": "markdown",
   "id": "5df00213",
   "metadata": {},
   "source": [
    "## 2. Conceitos fundamentais de estabilidade\n",
    "\n",
    "- **Estabilidade assintótica (linear, tempo-invariante):** todos os polos do sistema no semiplano esquerdo (Re(s) < 0).  \n",
    "- **Estabilidade marginal:** polos no eixo imaginário (Re(s)=0) sem multiplicidade crítica; comportamento oscilatório sustentado.  \n",
    "- **Instabilidade:** existe pelo menos um polo com Re(s) > 0.  \n",
    "- **Estabilidade interna vs. de laço fechado:** estabilidade de malha fechada depende da função de transferência em laço fechado T(s)=L(s)/(1+L(s)) com L(s)=C(s)G(s).  \n",
    "\n",
    "O capítulo explora como propriedades do polinômio característico (1+L(s)=0) se relacionam com estabilidade, e como métodos algébricos e gráficos permitem avaliar-a sem calcular raízes explicitamente."
   ]
  },
  {
   "cell_type": "markdown",
   "id": "5ed24798",
   "metadata": {},
   "source": [
    "## 3. Critério de Routh–Hurwitz\n",
    "\n",
    "### 3.1 Intuição e objetivo\n",
    "O critério de Routh–Hurwitz fornece uma forma algébrica de determinar quantas raízes de um polinômio têm parte real positiva, sem resolvê-las explicitamente. A construção da tabela de Routh revela sinais e mudanças de sinal que indicam raízes no semiplano direito. Dorf & Bishop apresentam exemplos e casos especiais (linhas nulas, presença de raízes no eixo jω) e mostram procedimentos para lidar com esses casos.\n",
    "\n",
    "### 3.2 Procedimento\n",
    "Dado o polinômio característico a_0 s^n + a_1 s^{n-1} + ... + a_n, constrói-se a tabela de Routh com filas contendo combinações lineares dos coeficientes. O número de mudanças de sinal na primeira coluna da tabela indica o número de raízes com Re(s)>0. Casos especiais exigem substituições (ε) ou decomposição por fatores de (s^2 + ω^2) quando aparecem linhas nulas.\n"
   ]
  },
  {
   "cell_type": "code",
   "execution_count": null,
   "id": "e5e6c83b",
   "metadata": {},
   "outputs": [],
   "source": [
    "import numpy as np\n",
    "import matplotlib.pyplot as plt\n",
    "from control import tf, feedback, step_response, pole, root_locus, bode, margin\n",
    "plt.rcParams['figure.figsize'] = (10,4)\n",
    "\n",
    "def routh_table(coeffs):\n",
    "    \"\"\"Compute Routh-Hurwitz table for polynomial with coefficients coeffs (highest power first).\n",
    "    Returns the Routh table as a 2D numpy array.\"\"\"\n",
    "    coeffs = [float(c) for c in coeffs]\n",
    "    n = len(coeffs) - 1\n",
    "    cols = int(np.ceil((n+1)/2))\n",
    "    table = np.zeros((n+1, cols))\n",
    "    table[0, :len(coeffs[0::2])] = coeffs[0::2]\n",
    "    table[1, :len(coeffs[1::2])] = coeffs[1::2]\n",
    "    for i in range(2, n+1):\n",
    "        for j in range(0, cols-1):\n",
    "            a = table[i-2,0]\n",
    "            b = table[i-2,j+1]\n",
    "            c = table[i-1,0]\n",
    "            d = table[i-1,j+1]\n",
    "            if c == 0:\n",
    "                val = 0.0\n",
    "            else:\n",
    "                val = (c*a - table[i-2,j+1]*table[i-1,0]) / c\n",
    "            table[i,j] = val\n",
    "    return table\n",
    "\n",
    "def routh_sign_changes(coeffs):\n",
    "    T = routh_table(coeffs)\n",
    "    first_col = T[:,0]\n",
    "    signs = np.sign(first_col)\n",
    "    signs_nz = signs[signs!=0]\n",
    "    changes = np.sum(signs_nz[:-1] * signs_nz[1:] < 0)\n",
    "    return int(changes), T\n",
    "\n",
    "coeffs_example = [1, 2, 3, 4]\n",
    "changes, T = routh_sign_changes(coeffs_example)\n",
    "print('Mudanças de sinal (número de raízes no RHP):', changes)\n",
    "print('Tabela de Caminho:\\n', T)\n"
   ]
  },
  {
   "cell_type": "markdown",
   "id": "9b61e046",
   "metadata": {},
   "source": [
    "## 4. Critério de Nyquist\n",
    "\n",
    "### 4.1 Ideia principal\n",
    "O critério de Nyquist relaciona o número de zeros do polinômio característico no semiplano direito com a variação do ângulo da função L(jω) ao percorrer a curva Nyquist. Em termos práticos, conta-se encirclements do ponto -1 no plano complexo pelo diagrama de Nyquist de L(jω) para determinar estabilidade de malha fechada. Dorf & Bishop apresentam a formulação clássica (N = Z - P), onde P é o número de polos de L(s) no semiplano direito e Z o número de zeros do denominador de 1+L(s) no semiplano direito.\n",
    "\n",
    "### 4.2 Interpretação geométrica e passos práticos\n",
    "Construir o diagrama de Nyquist (traçar L(jω) para ω de 0 a ∞ e aplicar simetria). Contar o número de voltas no sentido anti-horário em torno de -1. Pode-se usar o diagrama de Bode para inferir margens e comportamento sem traçar o Nyquist completo.\n"
   ]
  },
  {
   "cell_type": "code",
   "execution_count": null,
   "id": "f2757811",
   "metadata": {},
   "outputs": [],
   "source": [
    "from control import nyquist_plot\n",
    "\n",
    "G = tf([1],[1, -1, 2])\n",
    "C = tf([1],[1])\n",
    "L = C*G\n",
    "plt.figure()\n",
    "nyquist_plot(L, omega=np.logspace(-2, 2, 500))\n",
    "plt.title('Diagrama de Nyquist exemplo')\n",
    "plt.grid(True)\n"
   ]
  },
  {
   "cell_type": "markdown",
   "id": "8151f46c",
   "metadata": {},
   "source": [
    "## 5. Lugar das raízes (Root Locus)\n",
    "\n",
    "### 5.1 Propósito e uso\n",
    "O lugar das raízes mostra como as raízes do polinômio característico (polos em malha fechada) variam quando um parâmetro (tipicamente ganho K) é alterado. É uma ferramenta gráfica fundamental para projetar controladores e garantir estabilidade enquanto se satisfaz especificações de desempenho.\n",
    "\n",
    "### 5.2 Regras básicas e interpretação\n",
    "- Polos e zeros de L(s) determinam ramos do lugar; ramos partem dos polos de L(s) e vão em direção aos zeros enquanto K aumenta.  \n",
    "- Asporções de ramos ao eixo real, ângulos de entrada/saída nos polos/zeros, e pontos de ruptura são usados para traçar o locus.  \n",
    "- Dorf & Bishop mostram exemplos de como usar o root locus para escolher K que garanta amortecimento desejado (ζ) ou que posicione polos em locais específicos.\n"
   ]
  },
  {
   "cell_type": "code",
   "execution_count": null,
   "id": "63b89a89",
   "metadata": {},
   "outputs": [],
   "source": [
    "# Exemplo: planta de segunda ordem com ganho K em série\n",
    "G = tf([1],[1, 3, 2])  # 1/(s^2 + 3s + 2)\n",
    "plt.figure()\n",
    "rlist, klist = root_locus(G, Plot=True, grid=True)\n",
    "plt.title('Lugar das raízes - exemplo')\n"
   ]
  },
  {
   "cell_type": "markdown",
   "id": "40392172",
   "metadata": {},
   "source": [
    "## 6. Ferramentas numéricas e exemplos práticos\n",
    "\n",
    "Implementaremos exemplos práticos que ilustram o uso de Routh, Nyquist e Lugar das Raízes na avaliação da estabilidade de malha fechada. Para cada exemplo, calcularemos polos, margens e verificaremos a consistência entre métodos."
   ]
  },
  {
   "cell_type": "code",
   "execution_count": null,
   "id": "42ebc60a",
   "metadata": {},
   "outputs": [],
   "source": [
    "# Exemplo de conjunto\n",
    "G = tf([1],[1, 2, 1])  # 1/(s^2 + 2s +1)\n",
    "C = tf([2],[1])       # ganho K=2\n",
    "L = C*G\n",
    "T = feedback(L, 1)\n",
    "poles_open = pole(G)\n",
    "poles_closed = pole(T)\n",
    "gm, pm, sm, wg, wp, ws = margin(L)\n",
    "print('Polos malha aberta:', poles_open)\n",
    "print('Polos malha fechada:', poles_closed)\n",
    "print('Margem de ganho:', gm)\n",
    "print('Margem de fase (deg):', pm)\n"
   ]
  },
  {
   "cell_type": "markdown",
   "id": "185d502f",
   "metadata": {},
   "source": [
    "## 7. Discussão dos resultados\n",
    "\n",
    "Nesta seção comparamos os métodos e discutimos vantagens/práticas:  \n",
    "- **Routh** é algébrico e adequado para conta manual e verificação rápida; pode ser sensível a casos especiais que exigem tratamentos (linhas nulas).  \n",
    "- **Nyquist** traz visão geométrica e é ótima para lidar com sistemas com polos à direita e atrasos, mas requer análise cuidadosa de contornos.  \n",
    "- **Root locus** é excelente para projeto de ganho e compreensão de movimento dos polos com mudança de K.  \n",
    "Ao aplicar estas ferramentas em conjunto, obtém-se robustez na análise: verifique consistência entre número de polos em RHP (Routh) e encirclements em Nyquist."
   ]
  },
  {
   "cell_type": "markdown",
   "id": "36064b02",
   "metadata": {},
   "source": [
    "## 8. Relação com Indústria 4.0\n",
    "\n",
    "A estabilidade é requisito crítico em sistemas industriais. Na Indústria 4.0, além de projetar controladores estáveis, é necessário monitorar estabilidade em tempo real e integrar detecção automática de degradação:\n",
    "- **Monitoração em tempo real:** calcular margens e detectar aproximação de instabilidade via métricas em tempo real e alertas no PIMS.  \n",
    "- **Digital Twin:** simular alterações de parâmetros e validar estabilidade em gêmeos digitais antes de aplicar em campo.  \n",
    "- **Retuning automático e aprendizagem:** técnicas de identificação em linha podem reestimular modelos e retunar controladores quando a estabilidade é ameaçada por mudanças de processo.\n"
   ]
  }
 ],
 "metadata": {
  "kernelspec": {
   "display_name": "Python 3 (ipykernel)",
   "language": "python",
   "name": "python3"
  },
  "language_info": {
   "codemirror_mode": {
    "name": "ipython",
    "version": 3
   },
   "file_extension": ".py",
   "mimetype": "text/x-python",
   "name": "python",
   "nbconvert_exporter": "python",
   "pygments_lexer": "ipython3",
   "version": "3.10.12"
  }
 },
 "nbformat": 4,
 "nbformat_minor": 5
}
